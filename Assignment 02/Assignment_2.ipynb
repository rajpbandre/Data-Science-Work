{
  "nbformat": 4,
  "nbformat_minor": 0,
  "metadata": {
    "colab": {
      "provenance": []
    },
    "kernelspec": {
      "name": "python3",
      "display_name": "Python 3"
    },
    "language_info": {
      "name": "python"
    }
  },
  "cells": [
    {
      "cell_type": "code",
      "execution_count": 27,
      "metadata": {
        "id": "8sHIi8UULb1W"
      },
      "outputs": [],
      "source": [
        "#Importing libraries\n",
        "import numpy as np\n",
        "from scipy import stats"
      ]
    },
    {
      "cell_type": "code",
      "source": [
        "#Given Data\n",
        "data= [1.13, 1.55, 1.43, 0.92, 1.25, 1.36, 1.32, 0.85, 1.07, 1.48, 1.20, 1.33, 1.18, 1.22, 1.29]"
      ],
      "metadata": {
        "id": "CV179PMNL23d"
      },
      "execution_count": 28,
      "outputs": []
    },
    {
      "cell_type": "code",
      "source": [
        "# Assignment task A\n",
        "# Build 99% Confidence Interval Using Sample Standard Deviation\n",
        "xbar=np.mean(data) #sample mean\n",
        "s=np.std(data,ddof=1) #sample standard deviation (ddof=1 means sample,not population)\n",
        "n=len(data) #sample size\n",
        "df=n-1 #degree of freedom(n-1 for t-distribution)\n",
        "alpha=0.01 #confidence level\n",
        "t_critical=stats.t.ppf(1-alpha/2,df) #t-critical value\n",
        "margin=t_critical*s/np.sqrt(n) #margin of error\n",
        "confidence_interval=[xbar-margin,xbar+margin] #confidence interval\n",
        "print(\"Confidence interval using t-distribution is\",confidence_interval) #shows output"
      ],
      "metadata": {
        "colab": {
          "base_uri": "https://localhost:8080/"
        },
        "id": "4_o6iOjDMhVu",
        "outputId": "af30d6e7-2f89-4dfb-d24c-0391ec219f1f"
      },
      "execution_count": 29,
      "outputs": [
        {
          "output_type": "stream",
          "name": "stdout",
          "text": [
            "Confidence interval using t-distribution is [np.float64(1.0901973384384906), np.float64(1.3871359948948425)]\n"
          ]
        }
      ]
    },
    {
      "cell_type": "code",
      "source": [
        "#Steps:\n",
        "#1. Collect data\n",
        "#2. Calculate Sample Statistics (sample mean,sample std,degrre of freedom)\n",
        "#3. Choose Confidence level\n",
        "#4. Find t-critical value\n",
        "#5. Compute Margin of error\n",
        "#6.Construct Confidence Interval\n",
        "\n",
        "# We use t-distribution because the population standard deviation is unknown and the sample size is small (n < 30), we use the t-distribution."
      ],
      "metadata": {
        "id": "tbdHxw8aUFua"
      },
      "execution_count": 30,
      "outputs": []
    },
    {
      "cell_type": "markdown",
      "source": [
        "Assignment task B.\n",
        "Build 99% Confidence Interval Using Known Population Standard Deviation"
      ],
      "metadata": {
        "id": "8Y4ulWpAXXwE"
      }
    },
    {
      "cell_type": "code",
      "source": [
        "#Given the population standard deviation is 0.2 million characters\n",
        "data= [1.13, 1.55, 1.43, 0.92, 1.25, 1.36, 1.32, 0.85, 1.07, 1.48, 1.20, 1.33, 1.18, 1.22, 1.29]\n",
        "xbar=np.mean(data) #sample mean\n",
        "sigma = 0.2 #known population standard deviation\n",
        "n=len(data) #sample size\n",
        "alpha=0.01 #confidence level\n",
        "z_critical=stats.norm.ppf(1-alpha/2) #z-critical value\n",
        "margin=z_critical*(sigma/np.sqrt(n)) #margin of error\n",
        "confidence_interval=[xbar-margin,xbar+margin] #confidence interval\n",
        "print ('Confidence interval using z-score is',confidence_interval) #shows output"
      ],
      "metadata": {
        "colab": {
          "base_uri": "https://localhost:8080/"
        },
        "id": "raptpswEXLYy",
        "outputId": "025c8335-dc4c-48b2-9806-b6b23015ce0a"
      },
      "execution_count": 31,
      "outputs": [
        {
          "output_type": "stream",
          "name": "stdout",
          "text": [
            "Confidence interval using z-score is [np.float64(1.1056514133957607), np.float64(1.3716819199375725)]\n"
          ]
        }
      ]
    },
    {
      "cell_type": "code",
      "source": [
        "#STEPS:\n",
        "# 1. Collect data\n",
        "# 2. Calculate the average durability (mean)\n",
        "# 3. Find z-critical value\n",
        "# 4. Calculate margin of error\n",
        "# 5. Build Confidence Interval\n",
        "\n",
        "# We use z-score because population standard deviation is known.\n"
      ],
      "metadata": {
        "id": "JXwB7a5VZrAq"
      },
      "execution_count": 32,
      "outputs": []
    },
    {
      "cell_type": "code",
      "source": [
        "# Done"
      ],
      "metadata": {
        "id": "40cFJdZDbfsz"
      },
      "execution_count": 33,
      "outputs": []
    }
  ]
}