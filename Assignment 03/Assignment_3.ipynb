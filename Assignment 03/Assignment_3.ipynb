{
  "nbformat": 4,
  "nbformat_minor": 0,
  "metadata": {
    "colab": {
      "provenance": []
    },
    "kernelspec": {
      "name": "python3",
      "display_name": "Python 3"
    },
    "language_info": {
      "name": "python"
    }
  },
  "cells": [
    {
      "cell_type": "markdown",
      "source": [
        "Exercise 1 : Prime Numbers"
      ],
      "metadata": {
        "id": "pNLUcoYQqHwH"
      }
    },
    {
      "cell_type": "code",
      "execution_count": 26,
      "metadata": {
        "colab": {
          "base_uri": "https://localhost:8080/"
        },
        "id": "Xy4CgHxmqBml",
        "outputId": "3b361bf2-4fd0-455d-edaf-21f4a739c7ee"
      },
      "outputs": [
        {
          "output_type": "stream",
          "name": "stdout",
          "text": [
            "Enter a number: 8\n",
            "8 is not a prime number.\n"
          ]
        }
      ],
      "source": [
        "# Function to check if a number is prime\n",
        "def is_prime(num):\n",
        "    if num <= 1:\n",
        "        return False  # 0 and 1 are not prime\n",
        "    for i in range(2,num):\n",
        "        if num % i == 0:\n",
        "            return False  # divisible by another number → not prime\n",
        "    return True  # no divisors found → prime\n",
        "\n",
        "# Input from user\n",
        "number = int(input(\"Enter a number: \"))\n",
        "\n",
        "# Check and display result\n",
        "if is_prime(number):\n",
        "    print(f\"{number} is a prime number.\")\n",
        "else:\n",
        "    print(f\"{number} is not a prime number.\")"
      ]
    },
    {
      "cell_type": "markdown",
      "source": [
        "Exercise 2: Product of Random Numbers"
      ],
      "metadata": {
        "id": "Axu0_M2Ru2ob"
      }
    },
    {
      "cell_type": "code",
      "source": [
        "import random #importing random for random selection\n",
        "\n",
        "# Generate two random numbers between 1 and 10\n",
        "num1 = random.randint(1, 10)\n",
        "num2 = random.randint(1, 10)\n",
        "\n",
        "# Calculate the correct product\n",
        "correct_answer = num1 * num2\n",
        "\n",
        "# Ask the user to enter the product\n",
        "user_input = int(input(f\"What is {num1} × {num2}? \"))\n",
        "\n",
        "# Check the answer and respond\n",
        "if user_input == correct_answer:\n",
        "    print(\"✅ Correct! Well done.\") #if user answer is correct it will print correct well done\n",
        "else:\n",
        "    print(f\"❌ Oops! The correct answer is {correct_answer}.\") #if user answer is incorrect print oops the correct ans is correct ans\n"
      ],
      "metadata": {
        "colab": {
          "base_uri": "https://localhost:8080/"
        },
        "id": "Z9Rj2h3fuW6T",
        "outputId": "b51ddc09-84ef-443b-988c-86a4cc970a12"
      },
      "execution_count": 27,
      "outputs": [
        {
          "output_type": "stream",
          "name": "stdout",
          "text": [
            "What is 5 × 9? 45\n",
            "✅ Correct! Well done.\n"
          ]
        }
      ]
    },
    {
      "cell_type": "markdown",
      "source": [
        "Exercise 3: Squares of Even/Odd Numbers"
      ],
      "metadata": {
        "id": "ct5Jw7U2xuli"
      }
    },
    {
      "cell_type": "code",
      "source": [
        "#Square of even numbers\n",
        " #Python Script to Print Squares of Even Numbers from 100 to 200\n",
        "# The script loops through the range 100 to 200 (inclusive)\n",
        "# and prints the square of each number that is even.\n",
        "\n",
        "for num in range(100, 201): #100 to 201 to include 200\n",
        "     if num % 2 == 0:  # Check if the number is even\n",
        "      square = num**2 # calculate square\n",
        "      print(f\"The square of {num} is {square}.\") # shows output\n"
      ],
      "metadata": {
        "colab": {
          "base_uri": "https://localhost:8080/"
        },
        "id": "KJ05xzFSwqbe",
        "outputId": "b3357a23-0f79-47e2-9f60-6da70a8e8f03"
      },
      "execution_count": 28,
      "outputs": [
        {
          "output_type": "stream",
          "name": "stdout",
          "text": [
            "The square of 100 is 10000.\n",
            "The square of 102 is 10404.\n",
            "The square of 104 is 10816.\n",
            "The square of 106 is 11236.\n",
            "The square of 108 is 11664.\n",
            "The square of 110 is 12100.\n",
            "The square of 112 is 12544.\n",
            "The square of 114 is 12996.\n",
            "The square of 116 is 13456.\n",
            "The square of 118 is 13924.\n",
            "The square of 120 is 14400.\n",
            "The square of 122 is 14884.\n",
            "The square of 124 is 15376.\n",
            "The square of 126 is 15876.\n",
            "The square of 128 is 16384.\n",
            "The square of 130 is 16900.\n",
            "The square of 132 is 17424.\n",
            "The square of 134 is 17956.\n",
            "The square of 136 is 18496.\n",
            "The square of 138 is 19044.\n",
            "The square of 140 is 19600.\n",
            "The square of 142 is 20164.\n",
            "The square of 144 is 20736.\n",
            "The square of 146 is 21316.\n",
            "The square of 148 is 21904.\n",
            "The square of 150 is 22500.\n",
            "The square of 152 is 23104.\n",
            "The square of 154 is 23716.\n",
            "The square of 156 is 24336.\n",
            "The square of 158 is 24964.\n",
            "The square of 160 is 25600.\n",
            "The square of 162 is 26244.\n",
            "The square of 164 is 26896.\n",
            "The square of 166 is 27556.\n",
            "The square of 168 is 28224.\n",
            "The square of 170 is 28900.\n",
            "The square of 172 is 29584.\n",
            "The square of 174 is 30276.\n",
            "The square of 176 is 30976.\n",
            "The square of 178 is 31684.\n",
            "The square of 180 is 32400.\n",
            "The square of 182 is 33124.\n",
            "The square of 184 is 33856.\n",
            "The square of 186 is 34596.\n",
            "The square of 188 is 35344.\n",
            "The square of 190 is 36100.\n",
            "The square of 192 is 36864.\n",
            "The square of 194 is 37636.\n",
            "The square of 196 is 38416.\n",
            "The square of 198 is 39204.\n",
            "The square of 200 is 40000.\n"
          ]
        }
      ]
    },
    {
      "cell_type": "code",
      "source": [
        "##Square of odd numbers\n",
        " #Python Script to Print Squares of Odd Numbers from 100 to 200\n",
        "# The script loops through the range 100 to 200 (inclusive)\n",
        "# and prints the square of each number that is odd.\n",
        "\n",
        "for num in range(100,201): #100 to 201 to include 200\n",
        "    if num % 2 != 0: # Check if the number is odd\n",
        "        square = num ** 2 # calculate square\n",
        "        print(f\"The square of {num} is {square}.\")"
      ],
      "metadata": {
        "colab": {
          "base_uri": "https://localhost:8080/"
        },
        "id": "Dq_72lM00C2d",
        "outputId": "a832c7be-553d-4835-eabb-c686283f08fb"
      },
      "execution_count": 29,
      "outputs": [
        {
          "output_type": "stream",
          "name": "stdout",
          "text": [
            "The square of 101 is 10201.\n",
            "The square of 103 is 10609.\n",
            "The square of 105 is 11025.\n",
            "The square of 107 is 11449.\n",
            "The square of 109 is 11881.\n",
            "The square of 111 is 12321.\n",
            "The square of 113 is 12769.\n",
            "The square of 115 is 13225.\n",
            "The square of 117 is 13689.\n",
            "The square of 119 is 14161.\n",
            "The square of 121 is 14641.\n",
            "The square of 123 is 15129.\n",
            "The square of 125 is 15625.\n",
            "The square of 127 is 16129.\n",
            "The square of 129 is 16641.\n",
            "The square of 131 is 17161.\n",
            "The square of 133 is 17689.\n",
            "The square of 135 is 18225.\n",
            "The square of 137 is 18769.\n",
            "The square of 139 is 19321.\n",
            "The square of 141 is 19881.\n",
            "The square of 143 is 20449.\n",
            "The square of 145 is 21025.\n",
            "The square of 147 is 21609.\n",
            "The square of 149 is 22201.\n",
            "The square of 151 is 22801.\n",
            "The square of 153 is 23409.\n",
            "The square of 155 is 24025.\n",
            "The square of 157 is 24649.\n",
            "The square of 159 is 25281.\n",
            "The square of 161 is 25921.\n",
            "The square of 163 is 26569.\n",
            "The square of 165 is 27225.\n",
            "The square of 167 is 27889.\n",
            "The square of 169 is 28561.\n",
            "The square of 171 is 29241.\n",
            "The square of 173 is 29929.\n",
            "The square of 175 is 30625.\n",
            "The square of 177 is 31329.\n",
            "The square of 179 is 32041.\n",
            "The square of 181 is 32761.\n",
            "The square of 183 is 33489.\n",
            "The square of 185 is 34225.\n",
            "The square of 187 is 34969.\n",
            "The square of 189 is 35721.\n",
            "The square of 191 is 36481.\n",
            "The square of 193 is 37249.\n",
            "The square of 195 is 38025.\n",
            "The square of 197 is 38809.\n",
            "The square of 199 is 39601.\n"
          ]
        }
      ]
    },
    {
      "cell_type": "markdown",
      "source": [
        "Exercise 4: Word counter"
      ],
      "metadata": {
        "id": "WhvaKbxu1Ibh"
      }
    },
    {
      "cell_type": "code",
      "source": [
        "# Input text\n",
        "input_text = \"This is a sample text. This text will be used to demonstrate the word counter.\"\n",
        "\n",
        "# Remove punctuation for simplicity\n",
        "for ch in \".!,?\":\n",
        "    input_text = input_text.replace(ch, \"\")\n",
        "\n",
        "# Convert to lowercase and split into words\n",
        "words = input_text.lower().split()\n",
        "\n",
        "# Create an empty dictionary to store word counts\n",
        "word_count = {}\n",
        "\n",
        "for word in words:\n",
        "    if word in word_count:\n",
        "        word_count[word] += 1 # Increase count if word already exists\n",
        "    else:\n",
        "        word_count[word] = 1  # Set count to 1 if word is new\n",
        "\n",
        "# Print the word counts\n",
        "for word, count in word_count.items():\n",
        "    print(f\"'{word}': {count}\") #This prints each word and how many times it appeared\n"
      ],
      "metadata": {
        "colab": {
          "base_uri": "https://localhost:8080/"
        },
        "id": "THESYGAE1Kgd",
        "outputId": "d1855db9-8c77-4e80-fe82-0b96766a1e14"
      },
      "execution_count": 30,
      "outputs": [
        {
          "output_type": "stream",
          "name": "stdout",
          "text": [
            "'this': 2\n",
            "'is': 1\n",
            "'a': 1\n",
            "'sample': 1\n",
            "'text': 2\n",
            "'will': 1\n",
            "'be': 1\n",
            "'used': 1\n",
            "'to': 1\n",
            "'demonstrate': 1\n",
            "'the': 1\n",
            "'word': 1\n",
            "'counter': 1\n"
          ]
        }
      ]
    },
    {
      "cell_type": "markdown",
      "source": [
        "Exercise 5: Check for Palindrome"
      ],
      "metadata": {
        "id": "RdycYoTO6GzI"
      }
    },
    {
      "cell_type": "code",
      "source": [
        "#. A palindrome is a word, phrase, number, or other sequence of characters that reads the same forward and backward,\n",
        "# ignoring spaces, punctuation, and capitalization.\n",
        "\n",
        "def is_palindrome(string):\n",
        "    # Convert text to lowercase and remove spaces\n",
        "    text = string.lower().replace(\" \", \"\")\n",
        "\n",
        "    # Check if the text is the same forwards and backwards\n",
        "    return text == text[::-1]\n",
        "\n",
        "print(is_palindrome(\"Madam\"))\n",
        "print(is_palindrome(\"Race car\"))\n",
        "print(is_palindrome(\"Hello\"))\n",
        "print(is_palindrome(\"nayan\"))"
      ],
      "metadata": {
        "colab": {
          "base_uri": "https://localhost:8080/"
        },
        "id": "DwWhYuNm6KRM",
        "outputId": "fb815eba-8f61-4ea8-ffb6-9a7bc2d99173"
      },
      "execution_count": 31,
      "outputs": [
        {
          "output_type": "stream",
          "name": "stdout",
          "text": [
            "True\n",
            "True\n",
            "False\n",
            "True\n"
          ]
        }
      ]
    },
    {
      "cell_type": "code",
      "source": [
        "# Done"
      ],
      "metadata": {
        "id": "yWeinUeT71cp"
      },
      "execution_count": 32,
      "outputs": []
    }
  ]
}