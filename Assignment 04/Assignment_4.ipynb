{
  "nbformat": 4,
  "nbformat_minor": 0,
  "metadata": {
    "colab": {
      "provenance": []
    },
    "kernelspec": {
      "name": "python3",
      "display_name": "Python 3"
    },
    "language_info": {
      "name": "python"
    }
  },
  "cells": [
    {
      "cell_type": "markdown",
      "source": [
        "CHI_SQUARE TEST"
      ],
      "metadata": {
        "id": "4PJosC0vdpP_"
      }
    },
    {
      "cell_type": "markdown",
      "source": [
        "Assignment tasks. 1. State the Hypotheses\n",
        "\n",
        "*   Null Hypothesis (H₀):\n",
        "There is no association between the type of smart device purchased and customer satisfaction level.\n",
        "(They are independent.)\n",
        "*   Alternative Hypothesis (H₁):\n",
        "There is an association between the type of smart device purchased and customer satisfaction level.\n",
        "(They are not independent.)\n",
        "\n",
        "\n",
        "\n"
      ],
      "metadata": {
        "id": "Mr6hYneMt4UW"
      }
    },
    {
      "cell_type": "code",
      "source": [
        "import numpy as np\n",
        "import pandas as pd\n",
        "from scipy.stats import chi2_contingency, chi2\n",
        "\n",
        "# Step 1: Input Observed Data (Contingency Table)\n",
        "# Rows: Satisfaction Levels\n",
        "# Columns: Smart Thermostat, Smart Light\n",
        "\n",
        "observed = np.array([\n",
        "    [50, 70],   # Very Satisfied\n",
        "    [80, 100],  # Satisfied\n",
        "    [60, 90],   # Neutral\n",
        "    [30, 50],   # Unsatisfied\n",
        "    [20, 50]    # Very Unsatisfied\n",
        "])\n",
        "\n",
        "# Step 2: Perform Chi-Square Test\n",
        "chi2_stat, p_val, dof, expected = chi2_contingency(observed)\n",
        "\n",
        "# Step 3: Print test results\n",
        "print(\"Step 1: Hypotheses\")\n",
        "print(\"H₀: No association between device type and satisfaction level\")\n",
        "print(\"H₁: There is an association between device type and satisfaction level\")\n",
        "\n",
        "print(\"\\nStep 2: Chi-Square Test Results\")\n",
        "print(f\"Chi-Square Statistic: {chi2_stat:.2f}\")\n",
        "print(f\"Degrees of Freedom: {dof}\")\n",
        "print(f\"p-value: {p_val:.4f}\")\n",
        "\n",
        "print(\"\\nExpected Frequencies Table:\")\n",
        "expected_df = pd.DataFrame(expected, columns=[\"Smart Thermostat\", \"Smart Light\"],\n",
        "                           index=[\"Very Satisfied\", \"Satisfied\", \"Neutral\", \"Unsatisfied\", \"Very Unsatisfied\"])\n",
        "print(expected_df)\n",
        "\n",
        "# Step 4: Determine Critical Value\n",
        "alpha = 0.05\n",
        "critical_value = chi2.ppf(1 - alpha, dof)\n",
        "print(f\"\\nStep 3: Critical Value at α=0.05 and df={dof}: {critical_value:.2f}\")\n",
        "\n",
        "# Step 5: Decision\n",
        "print(\"\\nStep 4: Decision\")\n",
        "if chi2_stat > critical_value:\n",
        "    print(\"Reject the null hypothesis → Significant association found between device type and satisfaction.\")\n",
        "else:\n",
        "    print(\"Fail to reject the null hypothesis → No significant association found between device type and satisfaction.\")\n"
      ],
      "metadata": {
        "colab": {
          "base_uri": "https://localhost:8080/"
        },
        "id": "3aJ7M-k_wlAz",
        "outputId": "e9cc6e3f-cb56-41f9-e896-6d5341899803"
      },
      "execution_count": 10,
      "outputs": [
        {
          "output_type": "stream",
          "name": "stdout",
          "text": [
            "Step 1: Hypotheses\n",
            "H₀: No association between device type and satisfaction level\n",
            "H₁: There is an association between device type and satisfaction level\n",
            "\n",
            "Step 2: Chi-Square Test Results\n",
            "Chi-Square Statistic: 5.64\n",
            "Degrees of Freedom: 4\n",
            "p-value: 0.2278\n",
            "\n",
            "Expected Frequencies Table:\n",
            "                  Smart Thermostat  Smart Light\n",
            "Very Satisfied                48.0         72.0\n",
            "Satisfied                     72.0        108.0\n",
            "Neutral                       60.0         90.0\n",
            "Unsatisfied                   32.0         48.0\n",
            "Very Unsatisfied              28.0         42.0\n",
            "\n",
            "Step 3: Critical Value at α=0.05 and df=4: 9.49\n",
            "\n",
            "Step 4: Decision\n",
            "Fail to reject the null hypothesis → No significant association found between device type and satisfaction.\n"
          ]
        }
      ]
    },
    {
      "cell_type": "code",
      "source": [
        "# There is no association between the type of smart device purchased and customer satisfaction level. (They are independent.)"
      ],
      "metadata": {
        "id": "huEUQGzOyIoq"
      },
      "execution_count": null,
      "outputs": []
    },
    {
      "cell_type": "markdown",
      "source": [
        "HYPOTHESIS TESTING"
      ],
      "metadata": {
        "id": "p6raPGBIyNOF"
      }
    },
    {
      "cell_type": "code",
      "source": [
        "import math\n",
        "from scipy.stats import norm\n",
        "\n",
        "# Step 1: State the Hypotheses\n",
        "print(\"Step 1: Hypotheses\")\n",
        "print(\"H₀ (Null Hypothesis): The average weekly cost is not higher than the model prediction.\")\n",
        "print(\"H₁ (Alternative Hypothesis): The average weekly cost is higher than the model prediction (right-tailed test).\\n\")\n",
        "\n",
        "# Given data\n",
        "X_mean = 600                    # mean units produced\n",
        "cost_model = 1000 + 5 * X_mean  # theoretical weekly cost from model\n",
        "x_bar = 3050                    # sample mean cost\n",
        "sigma = 5 * 25                  # standard deviation = 5 * std. dev. of X\n",
        "n = 25                          # sample size\n",
        "\n",
        "# Step 2: Calculate Test Statistic (Z)\n",
        "z = (x_bar - cost_model) / (sigma / math.sqrt(n))\n",
        "\n",
        "print(\"Step 2: Test Statistic Calculation\")\n",
        "print(f\"Theoretical mean cost (μ): {cost_model}\")\n",
        "print(f\"Sample mean cost (x̄): {x_bar}\")\n",
        "print(f\"Standard deviation (σ): {sigma}\")\n",
        "print(f\"Sample size (n): {n}\")\n",
        "print(f\"Z (test statistic): {z:.2f}\\n\")\n",
        "\n",
        "# Step 3: Determine Critical Value\n",
        "alpha = 0.05\n",
        "z_critical = norm.ppf(1 - alpha)\n",
        "\n",
        "print(\"Step 3: Critical Value\")\n",
        "print(f\"Critical Z value at α = 0.05: {z_critical:.2f}\\n\")\n",
        "\n",
        "# Step 4: Make the Decision\n",
        "print(\"Step 4: Decision\")\n",
        "if z > z_critical:\n",
        "    print(\"Z > Z_critical → Reject the null hypothesis.\")\n",
        "else:\n",
        "    print(\"Z ≤ Z_critical → Fail to reject the null hypothesis.\")\n",
        "\n",
        "# Step 5: Conclusion\n",
        "print(\"\\nStep 5: Conclusion\")\n",
        "if z > z_critical:\n",
        "    print(\"Conclusion: There is strong evidence to support the restaurant owners' claim that the weekly operating costs are higher than predicted by the model.\")\n",
        "else:\n",
        "    print(\"Conclusion: There is not enough evidence to support the claim that costs have increased beyond the model.\")\n"
      ],
      "metadata": {
        "colab": {
          "base_uri": "https://localhost:8080/"
        },
        "id": "5L-pacbry5Cs",
        "outputId": "aad3b889-7f33-4d50-d820-93c2ef54da40"
      },
      "execution_count": 11,
      "outputs": [
        {
          "output_type": "stream",
          "name": "stdout",
          "text": [
            "Step 1: Hypotheses\n",
            "H₀ (Null Hypothesis): The average weekly cost is not higher than the model prediction.\n",
            "H₁ (Alternative Hypothesis): The average weekly cost is higher than the model prediction (right-tailed test).\n",
            "\n",
            "Step 2: Test Statistic Calculation\n",
            "Theoretical mean cost (μ): 4000\n",
            "Sample mean cost (x̄): 3050\n",
            "Standard deviation (σ): 125\n",
            "Sample size (n): 25\n",
            "Z (test statistic): -38.00\n",
            "\n",
            "Step 3: Critical Value\n",
            "Critical Z value at α = 0.05: 1.64\n",
            "\n",
            "Step 4: Decision\n",
            "Z ≤ Z_critical → Fail to reject the null hypothesis.\n",
            "\n",
            "Step 5: Conclusion\n",
            "Conclusion: There is not enough evidence to support the claim that costs have increased beyond the model.\n"
          ]
        }
      ]
    },
    {
      "cell_type": "code",
      "source": [
        "#Since the sample mean is significantly lower than the theoretical cost predicted by the model and the test statistic does not exceed the critical value, we fail to reject the null hypothesis.\n",
        "#There is no evidence to support the restaurant owners' claim that the weekly operating costs are higher than the model suggests. In fact, the sample data shows that costs appear to be lower than predicted."
      ],
      "metadata": {
        "id": "xZHEd7TNutak"
      },
      "execution_count": null,
      "outputs": []
    }
  ]
}